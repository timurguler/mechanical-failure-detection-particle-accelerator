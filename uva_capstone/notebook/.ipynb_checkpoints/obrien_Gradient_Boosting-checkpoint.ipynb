{
 "cells": [
  {
   "cell_type": "markdown",
   "id": "0cc0fddf-5e1b-4727-9d83-1d32259c9a07",
   "metadata": {},
   "source": [
    "### Prework"
   ]
  },
  {
   "cell_type": "code",
   "execution_count": 1,
   "id": "6db255c8-41b9-4992-b75e-1ff04aa217d5",
   "metadata": {},
   "outputs": [],
   "source": [
    "# !pip install boto3"
   ]
  },
  {
   "cell_type": "code",
   "execution_count": null,
   "id": "2a08ab5c-35a1-4c2b-b43b-ec83932717e2",
   "metadata": {},
   "outputs": [],
   "source": []
  },
  {
   "cell_type": "markdown",
   "id": "74002794-46b6-41bc-b24c-74300d0c588a",
   "metadata": {},
   "source": [
    "**Import Packages**"
   ]
  },
  {
   "cell_type": "code",
   "execution_count": 2,
   "id": "783c4729-19ea-4e18-96e1-f0421a2972f3",
   "metadata": {},
   "outputs": [],
   "source": [
    "import boto3\n",
    "import pandas as pd\n",
    "import numpy as np\n",
    "from scipy import stats\n",
    "import matplotlib.pyplot as plt\n",
    "import seaborn as sns\n",
    "import os\n",
    "import json\n",
    "import dotenv\n",
    "import sys\n",
    "import datetime\n",
    "import pickle\n",
    "import io\n",
    "import warnings\n",
    "from pulse import Pulse, get_metadata, get_median_pulse, distance_from_median, cumulative_distance_from_median # need pulse.py in same folder\n",
    "warnings.filterwarnings('ignore')\n",
    "\n",
    "from sklearn.linear_model import LogisticRegressionCV\n",
    "from sklearn.metrics import roc_auc_score"
   ]
  },
  {
   "cell_type": "markdown",
   "id": "f0cd325e-5086-45cb-8a30-bae632fe49da",
   "metadata": {},
   "source": [
    "**Set up AWS Connection**"
   ]
  },
  {
   "cell_type": "code",
   "execution_count": 3,
   "id": "8ac28681-96f4-4ccd-85cc-efce39a01088",
   "metadata": {},
   "outputs": [],
   "source": [
    "# set working directory to location of .env file\n",
    "working_directory = '/Users/colinobrien/Desktop'\n",
    "os.chdir(working_directory)\n",
    "\n",
    "# Load .env and save variables\n",
    "\n",
    "dotenv.load_dotenv()\n",
    "access_key_id=os.getenv('access_key_id')\n",
    "access_key_secret=os.getenv('access_key_secret')\n",
    "\n",
    "# Connect to S3 and import metadata\n",
    "\n",
    "s3 = boto3.resource(\n",
    "    service_name='s3',\n",
    "    region_name='us-east-1',\n",
    "    aws_access_key_id=access_key_id,\n",
    "    aws_secret_access_key=access_key_secret\n",
    ")"
   ]
  },
  {
   "cell_type": "markdown",
   "id": "b38fb114-2230-4e48-8907-9fc4562dfbfb",
   "metadata": {},
   "source": [
    "**Load Runs** - Still requires manual process, more troubleshooting needed"
   ]
  },
  {
   "cell_type": "code",
   "execution_count": 4,
   "id": "10f41bdb-951f-4df3-95ee-d40f4ad83bb1",
   "metadata": {},
   "outputs": [],
   "source": [
    "runs = {}\n",
    "\n",
    "for o in s3.Bucket('sds-capstone-jlab').objects.filter(Prefix='RFQ_UVA_Capstone/RFQ_UVA_Capstone'):\n",
    "           \n",
    "    # runs\n",
    "    if o.key.endswith('.csv') and ('Run' in o.key):\n",
    "        results = get_metadata(o) # metadata from filename\n",
    "        results['data'] = pd.read_csv(o.get()['Body'], skiprows=2).drop(columns = 'Signal Name') # data\n",
    "        runs[results['str_time']] = Pulse(results['data'], results['time'], results.get('fault_type'), results['interval'], results['result']) # create pulse object\n",
    "        \n",
    "\n",
    "# set pulses\n",
    "\n",
    "_ = [v.set_pulses() for k, v in runs.items()]\n",
    "\n",
    "# split into runs and faults, save to s3 as pickle\n"
   ]
  },
  {
   "cell_type": "markdown",
   "id": "40e7c9aa-9277-4611-a2bd-833e7fd6e865",
   "metadata": {},
   "source": [
    "**Load Faults**"
   ]
  },
  {
   "cell_type": "code",
   "execution_count": 5,
   "id": "1cd9885c-0f78-4bae-984d-245ebde04b20",
   "metadata": {},
   "outputs": [],
   "source": [
    "faults = pickle.loads(s3.Bucket(\"sds-capstone-jlab\").Object('consolidated-data/faults.pickle').get()['Body'].read())"
   ]
  },
  {
   "cell_type": "markdown",
   "id": "a046c813-7cce-48a1-82fd-fdbb3b295f9a",
   "metadata": {},
   "source": [
    "### Run Logistic Regression"
   ]
  },
  {
   "cell_type": "markdown",
   "id": "a1d77d9e-a6e4-45f9-b501-a497424babe3",
   "metadata": {},
   "source": [
    "List of components"
   ]
  },
  {
   "cell_type": "code",
   "execution_count": 6,
   "id": "8cb33590-845b-4a4d-9ff2-0a1d453b95ce",
   "metadata": {},
   "outputs": [],
   "source": [
    "components = runs[list(runs)[0]].data.columns"
   ]
  },
  {
   "cell_type": "markdown",
   "id": "65f0e817-8db4-4039-aef2-ffd990741bf7",
   "metadata": {},
   "source": [
    "Get median pulse"
   ]
  },
  {
   "cell_type": "code",
   "execution_count": 7,
   "id": "3e5032fb-38dc-4140-819f-9e1f662d0e3c",
   "metadata": {},
   "outputs": [],
   "source": [
    "median_pulse = get_median_pulse(runs)"
   ]
  },
  {
   "cell_type": "markdown",
   "id": "70adc2ad-4341-4eb6-a761-d34b739a1bc8",
   "metadata": {},
   "source": [
    "Put all pulses in single dict"
   ]
  },
  {
   "cell_type": "code",
   "execution_count": 8,
   "id": "a9e55b3c-2b53-4887-91ee-17d46f81e021",
   "metadata": {},
   "outputs": [],
   "source": [
    "all_pulses = {**runs, **faults}"
   ]
  },
  {
   "cell_type": "code",
   "execution_count": 9,
   "id": "aaacd5ba-c284-4654-8b5b-6fdd6efb0a41",
   "metadata": {},
   "outputs": [],
   "source": [
    "# all_pulses = runs | faults"
   ]
  },
  {
   "cell_type": "markdown",
   "id": "1ef998e5-eb73-4546-8d87-aa33aa6686de",
   "metadata": {},
   "source": [
    "**Calculate and Normalize L2 Values**"
   ]
  },
  {
   "cell_type": "code",
   "execution_count": 10,
   "id": "949c04b9-8561-4466-8878-ca37c0f9f296",
   "metadata": {},
   "outputs": [],
   "source": [
    "L2_values = cumulative_distance_from_median(all_pulses, median_pulse)"
   ]
  },
  {
   "cell_type": "code",
   "execution_count": 11,
   "id": "c1e29021-e416-4324-b74a-2f6a969b33a3",
   "metadata": {},
   "outputs": [],
   "source": [
    "normalized = (L2_values[components] - L2_values[components].mean())/L2_values[components].mean()\n",
    "normalized.dropna(axis='columns', inplace=True)\n",
    "components = normalized.columns\n",
    "normalized['time'] = L2_values.time\n",
    "normalized['result'] = L2_values.result"
   ]
  },
  {
   "cell_type": "markdown",
   "id": "ef615108-df09-484c-b9b3-929f3686e0b0",
   "metadata": {},
   "source": [
    "**Save Normalized DF to AWS**"
   ]
  },
  {
   "cell_type": "code",
   "execution_count": 12,
   "id": "2c455bfc-cc84-41c9-b729-2ececefa50b2",
   "metadata": {},
   "outputs": [],
   "source": [
    "normalized.to_csv('normalized-l2s.csv', index=False)"
   ]
  },
  {
   "cell_type": "code",
   "execution_count": 13,
   "id": "5366c1e6-046e-4299-9700-ca30adfb8846",
   "metadata": {},
   "outputs": [],
   "source": [
    "bucket = 'sds-capstone-jlab'\n",
    "filename = 'consolidated-data/normalized-l2s.csv'\n",
    "s3.meta.client.upload_file(Filename = 'normalized-l2s.csv', Bucket= bucket, Key = filename)"
   ]
  },
  {
   "cell_type": "markdown",
   "id": "42b0ee5b-39a5-4783-8628-25f8587b0fdb",
   "metadata": {},
   "source": [
    "########################################################################################################################################################################"
   ]
  },
  {
   "cell_type": "markdown",
   "id": "6397a260-4274-4307-8bb0-a5e09564d935",
   "metadata": {},
   "source": [
    "# Start of New Code"
   ]
  },
  {
   "cell_type": "markdown",
   "id": "7ba98ecb-5ba1-48ed-9d56-4ad03bfacfd0",
   "metadata": {},
   "source": [
    "########################################################################################################################################################################"
   ]
  },
  {
   "cell_type": "code",
   "execution_count": 113,
   "id": "15078a5c-1b1c-47fe-acad-aa2a7eeec891",
   "metadata": {},
   "outputs": [],
   "source": [
    "tree_data = L2_values"
   ]
  },
  {
   "cell_type": "code",
   "execution_count": 19,
   "id": "6ad83c39-134c-4fc1-a37c-d26c7b2e6e1d",
   "metadata": {},
   "outputs": [],
   "source": [
    "tree_data = tree_data.drop('time', axis=1)"
   ]
  },
  {
   "cell_type": "code",
   "execution_count": 20,
   "id": "90f56616-2282-4250-a1ef-ba1fba6b7344",
   "metadata": {},
   "outputs": [
    {
     "data": {
      "text/html": [
       "<div>\n",
       "<style scoped>\n",
       "    .dataframe tbody tr th:only-of-type {\n",
       "        vertical-align: middle;\n",
       "    }\n",
       "\n",
       "    .dataframe tbody tr th {\n",
       "        vertical-align: top;\n",
       "    }\n",
       "\n",
       "    .dataframe thead th {\n",
       "        text-align: right;\n",
       "    }\n",
       "</style>\n",
       "<table border=\"1\" class=\"dataframe\">\n",
       "  <thead>\n",
       "    <tr style=\"text-align: right;\">\n",
       "      <th></th>\n",
       "      <th>+ CB I</th>\n",
       "      <th>+ CB V</th>\n",
       "      <th>+ DC I</th>\n",
       "      <th>- CB I</th>\n",
       "      <th>- CB V</th>\n",
       "      <th>- DC I</th>\n",
       "      <th>A FLUX</th>\n",
       "      <th>A+ IGBT I</th>\n",
       "      <th>A+* IGBT I</th>\n",
       "      <th>AC L1 I</th>\n",
       "      <th>...</th>\n",
       "      <th>DTL1 Kly</th>\n",
       "      <th>DTL2 Kly</th>\n",
       "      <th>DV/DT</th>\n",
       "      <th>Gate In</th>\n",
       "      <th>MOD I</th>\n",
       "      <th>MOD V</th>\n",
       "      <th>Spare 2</th>\n",
       "      <th>Spare 3</th>\n",
       "      <th>Spare 4</th>\n",
       "      <th>result</th>\n",
       "    </tr>\n",
       "  </thead>\n",
       "  <tbody>\n",
       "    <tr>\n",
       "      <th>0</th>\n",
       "      <td>3.260522e+08</td>\n",
       "      <td>4.414723e+05</td>\n",
       "      <td>2.234895e+06</td>\n",
       "      <td>3.575379e+08</td>\n",
       "      <td>1.644504e+06</td>\n",
       "      <td>2.205337e+06</td>\n",
       "      <td>454.490234</td>\n",
       "      <td>8.019751e+06</td>\n",
       "      <td>8.494054e+06</td>\n",
       "      <td>1.684538e+08</td>\n",
       "      <td>...</td>\n",
       "      <td>0.208982</td>\n",
       "      <td>0.668123</td>\n",
       "      <td>239.492860</td>\n",
       "      <td>0.000</td>\n",
       "      <td>8.070443e+04</td>\n",
       "      <td>1.178059e+02</td>\n",
       "      <td>14899.120169</td>\n",
       "      <td>15111.673495</td>\n",
       "      <td>14901.789914</td>\n",
       "      <td>Run</td>\n",
       "    </tr>\n",
       "    <tr>\n",
       "      <th>1</th>\n",
       "      <td>3.495603e+08</td>\n",
       "      <td>1.034532e+06</td>\n",
       "      <td>1.176299e+06</td>\n",
       "      <td>3.824735e+08</td>\n",
       "      <td>2.870456e+06</td>\n",
       "      <td>1.158547e+06</td>\n",
       "      <td>1070.534595</td>\n",
       "      <td>7.747017e+06</td>\n",
       "      <td>8.020463e+06</td>\n",
       "      <td>7.538326e+08</td>\n",
       "      <td>...</td>\n",
       "      <td>0.101715</td>\n",
       "      <td>0.288959</td>\n",
       "      <td>331.380211</td>\n",
       "      <td>0.000</td>\n",
       "      <td>5.651510e+04</td>\n",
       "      <td>1.296821e+02</td>\n",
       "      <td>15036.352122</td>\n",
       "      <td>14488.784709</td>\n",
       "      <td>14465.202849</td>\n",
       "      <td>Run</td>\n",
       "    </tr>\n",
       "    <tr>\n",
       "      <th>2</th>\n",
       "      <td>3.659673e+08</td>\n",
       "      <td>1.465824e+06</td>\n",
       "      <td>2.433918e+06</td>\n",
       "      <td>3.958175e+08</td>\n",
       "      <td>3.640460e+06</td>\n",
       "      <td>2.404235e+06</td>\n",
       "      <td>485.939708</td>\n",
       "      <td>5.917347e+06</td>\n",
       "      <td>6.364391e+06</td>\n",
       "      <td>6.579064e+08</td>\n",
       "      <td>...</td>\n",
       "      <td>0.136289</td>\n",
       "      <td>0.376288</td>\n",
       "      <td>236.298105</td>\n",
       "      <td>99.992</td>\n",
       "      <td>5.263326e+04</td>\n",
       "      <td>8.018332e+01</td>\n",
       "      <td>14450.629534</td>\n",
       "      <td>14456.036356</td>\n",
       "      <td>14642.480445</td>\n",
       "      <td>Run</td>\n",
       "    </tr>\n",
       "    <tr>\n",
       "      <th>3</th>\n",
       "      <td>3.572112e+08</td>\n",
       "      <td>5.559499e+05</td>\n",
       "      <td>2.182731e+06</td>\n",
       "      <td>3.925506e+08</td>\n",
       "      <td>1.576345e+06</td>\n",
       "      <td>2.166040e+06</td>\n",
       "      <td>312.466933</td>\n",
       "      <td>5.468347e+06</td>\n",
       "      <td>5.964451e+06</td>\n",
       "      <td>1.617844e+08</td>\n",
       "      <td>...</td>\n",
       "      <td>0.235908</td>\n",
       "      <td>0.532662</td>\n",
       "      <td>195.425854</td>\n",
       "      <td>99.992</td>\n",
       "      <td>4.884831e+04</td>\n",
       "      <td>7.498063e+01</td>\n",
       "      <td>15168.901182</td>\n",
       "      <td>15526.131352</td>\n",
       "      <td>14532.064170</td>\n",
       "      <td>Run</td>\n",
       "    </tr>\n",
       "    <tr>\n",
       "      <th>4</th>\n",
       "      <td>3.500073e+08</td>\n",
       "      <td>1.200225e+06</td>\n",
       "      <td>1.329651e+06</td>\n",
       "      <td>3.827001e+08</td>\n",
       "      <td>3.051042e+06</td>\n",
       "      <td>1.298665e+06</td>\n",
       "      <td>659.401696</td>\n",
       "      <td>6.090040e+06</td>\n",
       "      <td>6.401805e+06</td>\n",
       "      <td>7.446594e+08</td>\n",
       "      <td>...</td>\n",
       "      <td>0.119968</td>\n",
       "      <td>0.325712</td>\n",
       "      <td>240.693028</td>\n",
       "      <td>99.992</td>\n",
       "      <td>4.939026e+04</td>\n",
       "      <td>8.821072e+01</td>\n",
       "      <td>14975.093375</td>\n",
       "      <td>14500.746911</td>\n",
       "      <td>14368.278449</td>\n",
       "      <td>Run</td>\n",
       "    </tr>\n",
       "    <tr>\n",
       "      <th>...</th>\n",
       "      <td>...</td>\n",
       "      <td>...</td>\n",
       "      <td>...</td>\n",
       "      <td>...</td>\n",
       "      <td>...</td>\n",
       "      <td>...</td>\n",
       "      <td>...</td>\n",
       "      <td>...</td>\n",
       "      <td>...</td>\n",
       "      <td>...</td>\n",
       "      <td>...</td>\n",
       "      <td>...</td>\n",
       "      <td>...</td>\n",
       "      <td>...</td>\n",
       "      <td>...</td>\n",
       "      <td>...</td>\n",
       "      <td>...</td>\n",
       "      <td>...</td>\n",
       "      <td>...</td>\n",
       "      <td>...</td>\n",
       "      <td>...</td>\n",
       "    </tr>\n",
       "    <tr>\n",
       "      <th>129</th>\n",
       "      <td>3.521858e+08</td>\n",
       "      <td>4.589227e+06</td>\n",
       "      <td>6.832627e+08</td>\n",
       "      <td>3.902238e+08</td>\n",
       "      <td>5.449679e+06</td>\n",
       "      <td>6.801564e+08</td>\n",
       "      <td>5947.889486</td>\n",
       "      <td>1.695223e+07</td>\n",
       "      <td>1.763020e+07</td>\n",
       "      <td>2.251152e+05</td>\n",
       "      <td>...</td>\n",
       "      <td>0.547872</td>\n",
       "      <td>1.409775</td>\n",
       "      <td>497.903485</td>\n",
       "      <td>99.992</td>\n",
       "      <td>1.525644e+05</td>\n",
       "      <td>2.042325e+04</td>\n",
       "      <td>15292.627185</td>\n",
       "      <td>15382.943750</td>\n",
       "      <td>14649.886870</td>\n",
       "      <td>Fault</td>\n",
       "    </tr>\n",
       "    <tr>\n",
       "      <th>130</th>\n",
       "      <td>3.641413e+08</td>\n",
       "      <td>1.265861e+06</td>\n",
       "      <td>1.912246e+06</td>\n",
       "      <td>4.187409e+08</td>\n",
       "      <td>7.441878e+05</td>\n",
       "      <td>1.870462e+06</td>\n",
       "      <td>1564.019479</td>\n",
       "      <td>1.278216e+07</td>\n",
       "      <td>1.318180e+07</td>\n",
       "      <td>5.593693e+08</td>\n",
       "      <td>...</td>\n",
       "      <td>0.293938</td>\n",
       "      <td>0.142370</td>\n",
       "      <td>386.213082</td>\n",
       "      <td>99.992</td>\n",
       "      <td>1.420228e+05</td>\n",
       "      <td>3.679087e+02</td>\n",
       "      <td>14596.689671</td>\n",
       "      <td>15432.107027</td>\n",
       "      <td>14411.406034</td>\n",
       "      <td>Fault</td>\n",
       "    </tr>\n",
       "    <tr>\n",
       "      <th>131</th>\n",
       "      <td>3.251070e+08</td>\n",
       "      <td>8.901428e+05</td>\n",
       "      <td>1.278806e+06</td>\n",
       "      <td>3.714151e+08</td>\n",
       "      <td>4.955778e+05</td>\n",
       "      <td>1.253083e+06</td>\n",
       "      <td>2755.122506</td>\n",
       "      <td>1.390919e+07</td>\n",
       "      <td>1.451057e+07</td>\n",
       "      <td>2.376683e+06</td>\n",
       "      <td>...</td>\n",
       "      <td>0.159007</td>\n",
       "      <td>0.191024</td>\n",
       "      <td>496.480021</td>\n",
       "      <td>99.992</td>\n",
       "      <td>1.224144e+05</td>\n",
       "      <td>3.302045e+02</td>\n",
       "      <td>16268.850009</td>\n",
       "      <td>16466.225471</td>\n",
       "      <td>15754.281522</td>\n",
       "      <td>Fault</td>\n",
       "    </tr>\n",
       "    <tr>\n",
       "      <th>132</th>\n",
       "      <td>3.478586e+08</td>\n",
       "      <td>1.358071e+06</td>\n",
       "      <td>2.281253e+06</td>\n",
       "      <td>3.977681e+08</td>\n",
       "      <td>7.380655e+05</td>\n",
       "      <td>2.248938e+06</td>\n",
       "      <td>684.301095</td>\n",
       "      <td>1.500071e+07</td>\n",
       "      <td>1.586496e+07</td>\n",
       "      <td>3.733042e+08</td>\n",
       "      <td>...</td>\n",
       "      <td>0.240195</td>\n",
       "      <td>0.222741</td>\n",
       "      <td>238.284291</td>\n",
       "      <td>99.992</td>\n",
       "      <td>1.462043e+05</td>\n",
       "      <td>2.057235e+02</td>\n",
       "      <td>14711.476293</td>\n",
       "      <td>15034.213416</td>\n",
       "      <td>14599.187316</td>\n",
       "      <td>Fault</td>\n",
       "    </tr>\n",
       "    <tr>\n",
       "      <th>133</th>\n",
       "      <td>6.475030e+10</td>\n",
       "      <td>4.007412e+07</td>\n",
       "      <td>6.832063e+08</td>\n",
       "      <td>6.578070e+10</td>\n",
       "      <td>3.603920e+07</td>\n",
       "      <td>6.795943e+08</td>\n",
       "      <td>330566.189262</td>\n",
       "      <td>4.091766e+09</td>\n",
       "      <td>4.008600e+09</td>\n",
       "      <td>1.972452e+05</td>\n",
       "      <td>...</td>\n",
       "      <td>973.070672</td>\n",
       "      <td>1032.496430</td>\n",
       "      <td>261043.342005</td>\n",
       "      <td>99.992</td>\n",
       "      <td>2.431114e+07</td>\n",
       "      <td>4.836658e+07</td>\n",
       "      <td>21684.498171</td>\n",
       "      <td>19492.740111</td>\n",
       "      <td>17968.877850</td>\n",
       "      <td>Fault</td>\n",
       "    </tr>\n",
       "  </tbody>\n",
       "</table>\n",
       "<p>134 rows × 33 columns</p>\n",
       "</div>"
      ],
      "text/plain": [
       "           + CB I        + CB V        + DC I        - CB I        - CB V  \\\n",
       "0    3.260522e+08  4.414723e+05  2.234895e+06  3.575379e+08  1.644504e+06   \n",
       "1    3.495603e+08  1.034532e+06  1.176299e+06  3.824735e+08  2.870456e+06   \n",
       "2    3.659673e+08  1.465824e+06  2.433918e+06  3.958175e+08  3.640460e+06   \n",
       "3    3.572112e+08  5.559499e+05  2.182731e+06  3.925506e+08  1.576345e+06   \n",
       "4    3.500073e+08  1.200225e+06  1.329651e+06  3.827001e+08  3.051042e+06   \n",
       "..            ...           ...           ...           ...           ...   \n",
       "129  3.521858e+08  4.589227e+06  6.832627e+08  3.902238e+08  5.449679e+06   \n",
       "130  3.641413e+08  1.265861e+06  1.912246e+06  4.187409e+08  7.441878e+05   \n",
       "131  3.251070e+08  8.901428e+05  1.278806e+06  3.714151e+08  4.955778e+05   \n",
       "132  3.478586e+08  1.358071e+06  2.281253e+06  3.977681e+08  7.380655e+05   \n",
       "133  6.475030e+10  4.007412e+07  6.832063e+08  6.578070e+10  3.603920e+07   \n",
       "\n",
       "           - DC I         A FLUX     A+ IGBT I    A+* IGBT I       AC L1 I  \\\n",
       "0    2.205337e+06     454.490234  8.019751e+06  8.494054e+06  1.684538e+08   \n",
       "1    1.158547e+06    1070.534595  7.747017e+06  8.020463e+06  7.538326e+08   \n",
       "2    2.404235e+06     485.939708  5.917347e+06  6.364391e+06  6.579064e+08   \n",
       "3    2.166040e+06     312.466933  5.468347e+06  5.964451e+06  1.617844e+08   \n",
       "4    1.298665e+06     659.401696  6.090040e+06  6.401805e+06  7.446594e+08   \n",
       "..            ...            ...           ...           ...           ...   \n",
       "129  6.801564e+08    5947.889486  1.695223e+07  1.763020e+07  2.251152e+05   \n",
       "130  1.870462e+06    1564.019479  1.278216e+07  1.318180e+07  5.593693e+08   \n",
       "131  1.253083e+06    2755.122506  1.390919e+07  1.451057e+07  2.376683e+06   \n",
       "132  2.248938e+06     684.301095  1.500071e+07  1.586496e+07  3.733042e+08   \n",
       "133  6.795943e+08  330566.189262  4.091766e+09  4.008600e+09  1.972452e+05   \n",
       "\n",
       "     ...    DTL1 Kly     DTL2 Kly          DV/DT  Gate In         MOD I  \\\n",
       "0    ...    0.208982     0.668123     239.492860    0.000  8.070443e+04   \n",
       "1    ...    0.101715     0.288959     331.380211    0.000  5.651510e+04   \n",
       "2    ...    0.136289     0.376288     236.298105   99.992  5.263326e+04   \n",
       "3    ...    0.235908     0.532662     195.425854   99.992  4.884831e+04   \n",
       "4    ...    0.119968     0.325712     240.693028   99.992  4.939026e+04   \n",
       "..   ...         ...          ...            ...      ...           ...   \n",
       "129  ...    0.547872     1.409775     497.903485   99.992  1.525644e+05   \n",
       "130  ...    0.293938     0.142370     386.213082   99.992  1.420228e+05   \n",
       "131  ...    0.159007     0.191024     496.480021   99.992  1.224144e+05   \n",
       "132  ...    0.240195     0.222741     238.284291   99.992  1.462043e+05   \n",
       "133  ...  973.070672  1032.496430  261043.342005   99.992  2.431114e+07   \n",
       "\n",
       "            MOD V       Spare 2       Spare 3       Spare 4  result  \n",
       "0    1.178059e+02  14899.120169  15111.673495  14901.789914     Run  \n",
       "1    1.296821e+02  15036.352122  14488.784709  14465.202849     Run  \n",
       "2    8.018332e+01  14450.629534  14456.036356  14642.480445     Run  \n",
       "3    7.498063e+01  15168.901182  15526.131352  14532.064170     Run  \n",
       "4    8.821072e+01  14975.093375  14500.746911  14368.278449     Run  \n",
       "..            ...           ...           ...           ...     ...  \n",
       "129  2.042325e+04  15292.627185  15382.943750  14649.886870   Fault  \n",
       "130  3.679087e+02  14596.689671  15432.107027  14411.406034   Fault  \n",
       "131  3.302045e+02  16268.850009  16466.225471  15754.281522   Fault  \n",
       "132  2.057235e+02  14711.476293  15034.213416  14599.187316   Fault  \n",
       "133  4.836658e+07  21684.498171  19492.740111  17968.877850   Fault  \n",
       "\n",
       "[134 rows x 33 columns]"
      ]
     },
     "execution_count": 20,
     "metadata": {},
     "output_type": "execute_result"
    }
   ],
   "source": [
    "tree_data"
   ]
  },
  {
   "cell_type": "code",
   "execution_count": 46,
   "id": "7abf0ff9-4f85-4069-895f-f035e0acc7dd",
   "metadata": {},
   "outputs": [],
   "source": [
    "## pulling in libraries\n",
    "from numpy import mean\n",
    "from numpy import std\n",
    "from sklearn.datasets import make_classification\n",
    "from sklearn.ensemble import GradientBoostingClassifier\n",
    "from sklearn.model_selection import cross_val_score\n",
    "from sklearn.model_selection import RepeatedStratifiedKFold\n",
    "from matplotlib import pyplot\n",
    "from sklearn.model_selection import train_test_split"
   ]
  },
  {
   "cell_type": "code",
   "execution_count": 22,
   "id": "b1fdfae8-bc47-4706-b344-a4fca59bfc52",
   "metadata": {},
   "outputs": [],
   "source": [
    "# rename \n",
    "df = tree_data"
   ]
  },
  {
   "cell_type": "code",
   "execution_count": 23,
   "id": "1e6b61b4-ba72-4113-9bd4-7ff70dec2ba3",
   "metadata": {},
   "outputs": [],
   "source": [
    "# predictor response split:\n",
    "df_x = df.drop('result', axis=1)\n",
    "df_y = df.result"
   ]
  },
  {
   "cell_type": "markdown",
   "id": "a908a271-0e84-4f71-a0a7-a1ba69762d4f",
   "metadata": {},
   "source": [
    "## Doing a Test / Training split "
   ]
  },
  {
   "cell_type": "code",
   "execution_count": 112,
   "id": "45bc4607-3e12-4285-b0a0-1f5ec99b494f",
   "metadata": {},
   "outputs": [],
   "source": [
    "## tuning parameters:\n",
    "learning_rate_list = np.arange(0.01,.2,.01)\n",
    "max_depth_list = np.arange(1,6,1) \n",
    "n_estimators_list = np.arange(150,200,10)    ### change to be different (take forever to run)\n",
    "# subsample_list = maybe do one for this?\n",
    "\n",
    "## redefining cv rules:\n",
    "cv = RepeatedStratifiedKFold(n_splits=10, n_repeats=3, random_state=1)"
   ]
  },
  {
   "cell_type": "code",
   "execution_count": 47,
   "id": "c13847f4-edc9-47bf-97fb-21e311af82d3",
   "metadata": {},
   "outputs": [],
   "source": [
    "# test / train split\n",
    "X_train, X_test, Y_train, Y_test = train_test_split(df_x, df_y, test_size=0.25, random_state=2021)"
   ]
  },
  {
   "cell_type": "code",
   "execution_count": 52,
   "id": "54026261-1624-458d-be5f-408536e8b9fd",
   "metadata": {},
   "outputs": [
    {
     "data": {
      "text/html": [
       "<div>\n",
       "<style scoped>\n",
       "    .dataframe tbody tr th:only-of-type {\n",
       "        vertical-align: middle;\n",
       "    }\n",
       "\n",
       "    .dataframe tbody tr th {\n",
       "        vertical-align: top;\n",
       "    }\n",
       "\n",
       "    .dataframe thead th {\n",
       "        text-align: right;\n",
       "    }\n",
       "</style>\n",
       "<table border=\"1\" class=\"dataframe\">\n",
       "  <thead>\n",
       "    <tr style=\"text-align: right;\">\n",
       "      <th></th>\n",
       "      <th>Learning_Rate</th>\n",
       "      <th>Max_Depth</th>\n",
       "      <th>Number_Of_Tress</th>\n",
       "      <th>mean_score</th>\n",
       "      <th>std_of_scores</th>\n",
       "    </tr>\n",
       "  </thead>\n",
       "  <tbody>\n",
       "    <tr>\n",
       "      <th>0</th>\n",
       "      <td>0.01</td>\n",
       "      <td>1</td>\n",
       "      <td>150</td>\n",
       "      <td>0.723333</td>\n",
       "      <td>0.105462</td>\n",
       "    </tr>\n",
       "    <tr>\n",
       "      <th>1</th>\n",
       "      <td>0.01</td>\n",
       "      <td>1</td>\n",
       "      <td>160</td>\n",
       "      <td>0.723333</td>\n",
       "      <td>0.105462</td>\n",
       "    </tr>\n",
       "    <tr>\n",
       "      <th>2</th>\n",
       "      <td>0.01</td>\n",
       "      <td>1</td>\n",
       "      <td>170</td>\n",
       "      <td>0.723333</td>\n",
       "      <td>0.105462</td>\n",
       "    </tr>\n",
       "    <tr>\n",
       "      <th>3</th>\n",
       "      <td>0.01</td>\n",
       "      <td>1</td>\n",
       "      <td>180</td>\n",
       "      <td>0.726667</td>\n",
       "      <td>0.109341</td>\n",
       "    </tr>\n",
       "    <tr>\n",
       "      <th>4</th>\n",
       "      <td>0.01</td>\n",
       "      <td>1</td>\n",
       "      <td>190</td>\n",
       "      <td>0.726667</td>\n",
       "      <td>0.109341</td>\n",
       "    </tr>\n",
       "    <tr>\n",
       "      <th>...</th>\n",
       "      <td>...</td>\n",
       "      <td>...</td>\n",
       "      <td>...</td>\n",
       "      <td>...</td>\n",
       "      <td>...</td>\n",
       "    </tr>\n",
       "    <tr>\n",
       "      <th>470</th>\n",
       "      <td>0.19</td>\n",
       "      <td>5</td>\n",
       "      <td>150</td>\n",
       "      <td>0.750000</td>\n",
       "      <td>0.150000</td>\n",
       "    </tr>\n",
       "    <tr>\n",
       "      <th>471</th>\n",
       "      <td>0.19</td>\n",
       "      <td>5</td>\n",
       "      <td>160</td>\n",
       "      <td>0.760000</td>\n",
       "      <td>0.140475</td>\n",
       "    </tr>\n",
       "    <tr>\n",
       "      <th>472</th>\n",
       "      <td>0.19</td>\n",
       "      <td>5</td>\n",
       "      <td>170</td>\n",
       "      <td>0.733333</td>\n",
       "      <td>0.155635</td>\n",
       "    </tr>\n",
       "    <tr>\n",
       "      <th>473</th>\n",
       "      <td>0.19</td>\n",
       "      <td>5</td>\n",
       "      <td>180</td>\n",
       "      <td>0.760000</td>\n",
       "      <td>0.135647</td>\n",
       "    </tr>\n",
       "    <tr>\n",
       "      <th>474</th>\n",
       "      <td>0.19</td>\n",
       "      <td>5</td>\n",
       "      <td>190</td>\n",
       "      <td>0.763333</td>\n",
       "      <td>0.153804</td>\n",
       "    </tr>\n",
       "  </tbody>\n",
       "</table>\n",
       "<p>475 rows × 5 columns</p>\n",
       "</div>"
      ],
      "text/plain": [
       "     Learning_Rate Max_Depth Number_Of_Tress  mean_score  std_of_scores\n",
       "0             0.01         1             150    0.723333       0.105462\n",
       "1             0.01         1             160    0.723333       0.105462\n",
       "2             0.01         1             170    0.723333       0.105462\n",
       "3             0.01         1             180    0.726667       0.109341\n",
       "4             0.01         1             190    0.726667       0.109341\n",
       "..             ...       ...             ...         ...            ...\n",
       "470           0.19         5             150    0.750000       0.150000\n",
       "471           0.19         5             160    0.760000       0.140475\n",
       "472           0.19         5             170    0.733333       0.155635\n",
       "473           0.19         5             180    0.760000       0.135647\n",
       "474           0.19         5             190    0.763333       0.153804\n",
       "\n",
       "[475 rows x 5 columns]"
      ]
     },
     "execution_count": 52,
     "metadata": {},
     "output_type": "execute_result"
    }
   ],
   "source": [
    "global_df_col_names = ['Learning_Rate', 'Max_Depth', 'Number_Of_Tress','mean_score', 'std_of_scores' ]\n",
    "training_global_df = pd.DataFrame(columns = global_df_col_names)\n",
    "\n",
    "for l in learning_rate_list:\n",
    "    for d in max_depth_list:\n",
    "        for e in n_estimators_list:\n",
    "            # getting local model:\n",
    "            local_model = GradientBoostingClassifier(n_estimators=e, learning_rate=l, max_depth=d)\n",
    "            \n",
    "            # running a 10-fold CV 3 seperate times for that model\n",
    "            local_n_scores = cross_val_score(local_model, X_train, Y_train, scoring='accuracy', cv=cv, n_jobs=-1, error_score='raise')\n",
    "            \n",
    "            # getting the average score accross the 30 splits for the local model\n",
    "            local_mean_score = mean(local_n_scores)\n",
    "            \n",
    "            # getting the standard deviation accross the 30 splits for the local model\n",
    "            local_std = std(local_n_scores)\n",
    "            \n",
    "            # saving into DF\n",
    "            local_df = pd.DataFrame({'Learning_Rate':l, \n",
    "                                    'Max_Depth':d, \n",
    "                                    'Number_Of_Tress':e, \n",
    "                                    'mean_score':local_mean_score, \n",
    "                                    'std_of_scores':local_std}, index=[0])\n",
    "            training_global_df = training_global_df.append(local_df, ignore_index=True)\n",
    "            \n",
    "# training_global_df"
   ]
  },
  {
   "cell_type": "code",
   "execution_count": 106,
   "id": "76d41f1e-4a7c-4e60-b9e1-a0452cc763fe",
   "metadata": {},
   "outputs": [
    {
     "data": {
      "text/plain": [
       "Learning_Rate          0.18\n",
       "Max_Depth                 2\n",
       "Number_Of_Tress         180\n",
       "mean_score             0.82\n",
       "std_of_scores      0.130128\n",
       "Name: 433, dtype: object"
      ]
     },
     "execution_count": 106,
     "metadata": {},
     "output_type": "execute_result"
    }
   ],
   "source": [
    "training_global_df = training_global_df.sort_values('mean_score', ascending=False)\n",
    "best_tuning_parameters_train = training_global_df.iloc[0,:]\n",
    "best_tuning_parameters_train"
   ]
  },
  {
   "cell_type": "markdown",
   "id": "4213ac40-d564-451b-8ded-b92543df368b",
   "metadata": {},
   "source": [
    "#### Above are the parameters for the model with the highest accuracy rate. I am concerned with that std, which is implying that while a mean accuracy score fo 82% within the 30 CVs for those parameters (.18 learning rate, 2 depth and 180 trees) is pretty good, the distribution is pretty wide, with scores only 1 std from the mean being below 70%. "
   ]
  },
  {
   "cell_type": "markdown",
   "id": "8abbb0a1-05a6-4226-94b9-ac4e1d257b26",
   "metadata": {},
   "source": [
    "## Now trying with test"
   ]
  },
  {
   "cell_type": "code",
   "execution_count": 104,
   "id": "62c82143-80de-4a75-8a14-405b4ef6ac8c",
   "metadata": {},
   "outputs": [],
   "source": [
    "model_best_parameters = GradientBoostingClassifier(n_estimators=180, learning_rate=0.18, max_depth=2).fit(X_train, Y_train)"
   ]
  },
  {
   "cell_type": "code",
   "execution_count": 107,
   "id": "a409462c-0daf-46e4-8291-5cda2bcbf017",
   "metadata": {
    "tags": []
   },
   "outputs": [
    {
     "data": {
      "text/plain": [
       "0.8823529411764706"
      ]
     },
     "execution_count": 107,
     "metadata": {},
     "output_type": "execute_result"
    }
   ],
   "source": [
    "model_best_parameters.score(X_test, Y_test)  # Returns the mean accuracy on the given test data and labels.\n",
    "# https://scikit-learn.org/0.15/modules/generated/sklearn.ensemble.GradientBoostingClassifier.html"
   ]
  },
  {
   "cell_type": "markdown",
   "id": "e0b9839f-1336-4aac-8943-cb123245e44a",
   "metadata": {
    "tags": []
   },
   "source": [
    "#### Test is pretty high, but again, given the high std, I am not convinced if we were given brand new data, this model would preform as well"
   ]
  },
  {
   "cell_type": "code",
   "execution_count": 115,
   "id": "5cfdff65-b649-4355-b5fa-489a7c98c431",
   "metadata": {
    "jupyter": {
     "source_hidden": true
    },
    "tags": []
   },
   "outputs": [],
   "source": [
    "results = list(model_best_parameters.predict(X_test))\n",
    "\n",
    "true_values = list(Y_test)\n",
    "\n",
    "df_of_test_results = pd.DataFrame({'prediction':results,\n",
    "                                   'actual':true_values})\n",
    "\n",
    "def True_Positive(row):\n",
    "    if ((row['prediction'] == 'Run') and (row['actual'] == 'Run')): \n",
    "        val = 1\n",
    "    else:\n",
    "        val = 0\n",
    "    return val\n",
    "def True_Negative(row):\n",
    "    if ((row['prediction'] == 'Fault') and (row['actual'] == 'Fault')): \n",
    "        val = 1\n",
    "    else:\n",
    "        val = 0\n",
    "    return val\n",
    "def False_Positive(row):\n",
    "    if ((row['prediction'] == 'Run') and (row['actual'] == 'Fault')): \n",
    "        val = 1\n",
    "    else:\n",
    "        val = 0\n",
    "    return val\n",
    "def False_Negative(row):\n",
    "    if ((row['prediction'] == 'Fault') and (row['actual'] == 'Run')): \n",
    "        val = 1\n",
    "    else:\n",
    "        val = 0\n",
    "    return val\n",
    "\n",
    "# calcing score of each observation\n",
    "df_of_test_results['True Positive'] = df_of_test_results.apply(True_Positive, axis=1)\n",
    "df_of_test_results['True Negative'] = df_of_test_results.apply(True_Negative, axis=1)\n",
    "df_of_test_results['False Positive'] = df_of_test_results.apply(False_Positive, axis=1)\n",
    "df_of_test_results['False Negative'] = df_of_test_results.apply(False_Negative, axis=1)\n",
    "\n",
    "# getting dif scores\n",
    "true_positive_rate = sum(df_of_test_results['True Positive'])/len(df_of_test_results)\n",
    "true_negative_rate = sum(df_of_test_results['True Negative'])/len(df_of_test_results)\n",
    "false_positive_rate = sum(df_of_test_results['False Positive'])/len(df_of_test_results)\n",
    "false_negative_rate = sum(df_of_test_results['False Negative'])/len(df_of_test_results)\n",
    "summary_table = pd.DataFrame({'true positive':true_positive_rate,\n",
    "                                    'true negative':true_negative_rate,\n",
    "                                    'false positive':false_positive_rate,\n",
    "                                    'false negative':false_negative_rate}, index=[0])\n",
    "summary_table['accuracy'] = summary_table['true positive']+ summary_table['true negative']"
   ]
  },
  {
   "cell_type": "code",
   "execution_count": 116,
   "id": "cebba4ca-778d-4581-9fcc-3350e0e2394a",
   "metadata": {},
   "outputs": [
    {
     "data": {
      "text/html": [
       "<div>\n",
       "<style scoped>\n",
       "    .dataframe tbody tr th:only-of-type {\n",
       "        vertical-align: middle;\n",
       "    }\n",
       "\n",
       "    .dataframe tbody tr th {\n",
       "        vertical-align: top;\n",
       "    }\n",
       "\n",
       "    .dataframe thead th {\n",
       "        text-align: right;\n",
       "    }\n",
       "</style>\n",
       "<table border=\"1\" class=\"dataframe\">\n",
       "  <thead>\n",
       "    <tr style=\"text-align: right;\">\n",
       "      <th></th>\n",
       "      <th>true positive</th>\n",
       "      <th>true negative</th>\n",
       "      <th>false positive</th>\n",
       "      <th>false negative</th>\n",
       "      <th>accuracy</th>\n",
       "    </tr>\n",
       "  </thead>\n",
       "  <tbody>\n",
       "    <tr>\n",
       "      <th>0</th>\n",
       "      <td>0.588235</td>\n",
       "      <td>0.294118</td>\n",
       "      <td>0.058824</td>\n",
       "      <td>0.058824</td>\n",
       "      <td>0.882353</td>\n",
       "    </tr>\n",
       "  </tbody>\n",
       "</table>\n",
       "</div>"
      ],
      "text/plain": [
       "   true positive  true negative  false positive  false negative  accuracy\n",
       "0       0.588235       0.294118        0.058824        0.058824  0.882353"
      ]
     },
     "execution_count": 116,
     "metadata": {},
     "output_type": "execute_result"
    }
   ],
   "source": [
    "summary_table"
   ]
  },
  {
   "cell_type": "markdown",
   "id": "e36f8a7c-4c86-4c90-9be4-db00d8d70a03",
   "metadata": {},
   "source": [
    "#### Final False positive rate is around 6%. Potential next steps would be implimenting a cost for false postives. Also, seeing if other boosting methods / different parameters lower the std would be something to explore. "
   ]
  }
 ],
 "metadata": {
  "kernelspec": {
   "display_name": "Python 3 (ipykernel)",
   "language": "python",
   "name": "python3"
  },
  "language_info": {
   "codemirror_mode": {
    "name": "ipython",
    "version": 3
   },
   "file_extension": ".py",
   "mimetype": "text/x-python",
   "name": "python",
   "nbconvert_exporter": "python",
   "pygments_lexer": "ipython3",
   "version": "3.8.8"
  },
  "widgets": {
   "application/vnd.jupyter.widget-state+json": {
    "state": {},
    "version_major": 2,
    "version_minor": 0
   }
  }
 },
 "nbformat": 4,
 "nbformat_minor": 5
}
